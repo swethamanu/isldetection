{
 "cells": [
  {
   "cell_type": "markdown",
   "metadata": {},
   "source": [
    "#### CNN"
   ]
  },
  {
   "cell_type": "code",
   "execution_count": 1,
   "metadata": {},
   "outputs": [],
   "source": [
    "import tensorflow as tf\n",
    "import pandas as pd \n",
    "import numpy as np \n",
    "import matplotlib.pyplot as plt \n",
    "import cv2\n",
    "import keras\n",
    "from tensorflow.keras.metrics import AUC, Precision, Recall, FalseNegatives, FalsePositives,TrueNegatives,TruePositives, CategoricalCrossentropy\n",
    "from sklearn.metrics import confusion_matrix"
   ]
  },
  {
   "cell_type": "code",
   "execution_count": 2,
   "metadata": {},
   "outputs": [],
   "source": [
    "#locations of the train and test folder are strored \n",
    "train='output/train'\n",
    "test='output/test'"
   ]
  },
  {
   "cell_type": "code",
   "execution_count": 3,
   "metadata": {},
   "outputs": [
    {
     "name": "stdout",
     "output_type": "stream",
     "text": [
      "Found 31500 images belonging to 35 classes.\n",
      "Found 10500 images belonging to 35 classes.\n"
     ]
    }
   ],
   "source": [
    "#preparing data for training and testing on the model\n",
    "\n",
    "#image data generator allows you to do real time data augmentation \n",
    "img_datagen = tf.keras.preprocessing.image.ImageDataGenerator(rescale=1./255)\n",
    "\n",
    "#training and testing will hold the augmented and processed images that we will feed to the model \n",
    "training= img_datagen.flow_from_directory(train, target_size=(128,128),\n",
    "                          color_mode='grayscale',batch_size=32, shuffle=True,class_mode='categorical')\n",
    "testing= img_datagen.flow_from_directory(test, target_size=(128,128),\n",
    "                          color_mode='grayscale',batch_size=32, shuffle=True,class_mode='categorical')\n"
   ]
  },
  {
   "cell_type": "code",
   "execution_count": 4,
   "metadata": {},
   "outputs": [],
   "source": [
    "#creating the model \n",
    "\n",
    "from keras.models import Sequential\n",
    "from keras.layers import Convolution2D\n",
    "from keras.layers import MaxPooling2D\n",
    "from keras.layers import Flatten\n",
    "from keras.layers import Dense , Dropout"
   ]
  },
  {
   "cell_type": "code",
   "execution_count": 6,
   "metadata": {},
   "outputs": [],
   "source": [
    "#initializing the CNN \n",
    "\n",
    "#sequential function provided by keras lets us build a model layer by layer \n",
    "model = Sequential()\n",
    "\n",
    "#convolution layer and pooling \n",
    "model.add(Convolution2D(filters=32,kernel_size=3,padding='same',activation='relu',input_shape=(128,128,1)))\n",
    "#pooling layer helps with downsampling i.e dimensionality reduction\n",
    "model.add(MaxPooling2D(pool_size=(2, 2)))\n",
    "model.add(Convolution2D(filters=32,kernel_size=3,padding='same',activation='relu'))\n",
    "model.add(Convolution2D(filters=32,kernel_size=3,padding='same',activation='relu'))\n",
    "#converting the data into a 1D array before inputting to the fully connected layer \n",
    "model.add(Flatten())\n",
    "\n",
    "#connected layer \n",
    "\n",
    "model.add(Dense(units=128, activation='relu'))\n",
    "model.add(Dropout(0.40))\n",
    "model.add(Dense(units=96, activation='relu'))\n",
    "model.add(Dropout(0.40))\n",
    "model.add(Dense(units=64, activation='relu'))\n",
    "\n",
    "model.add(Dense(units=35, activation='softmax')) \n",
    "\n",
    "#compiling \n",
    "model.compile(optimizer='adam', loss='categorical_crossentropy', metrics=['accuracy',AUC(),Precision(),Recall(),FalsePositives(),TrueNegatives(),TruePositives(),FalseNegatives()])"
   ]
  },
  {
   "cell_type": "code",
   "execution_count": 7,
   "metadata": {},
   "outputs": [
    {
     "name": "stdout",
     "output_type": "stream",
     "text": [
      "Model: \"sequential_1\"\n",
      "_________________________________________________________________\n",
      " Layer (type)                Output Shape              Param #   \n",
      "=================================================================\n",
      " conv2d_3 (Conv2D)           (None, 128, 128, 32)      320       \n",
      "                                                                 \n",
      " max_pooling2d_1 (MaxPooling  (None, 64, 64, 32)       0         \n",
      " 2D)                                                             \n",
      "                                                                 \n",
      " conv2d_4 (Conv2D)           (None, 64, 64, 32)        9248      \n",
      "                                                                 \n",
      " conv2d_5 (Conv2D)           (None, 64, 64, 32)        9248      \n",
      "                                                                 \n",
      " flatten_1 (Flatten)         (None, 131072)            0         \n",
      "                                                                 \n",
      " dense_4 (Dense)             (None, 128)               16777344  \n",
      "                                                                 \n",
      " dropout_2 (Dropout)         (None, 128)               0         \n",
      "                                                                 \n",
      " dense_5 (Dense)             (None, 96)                12384     \n",
      "                                                                 \n",
      " dropout_3 (Dropout)         (None, 96)                0         \n",
      "                                                                 \n",
      " dense_6 (Dense)             (None, 64)                6208      \n",
      "                                                                 \n",
      " dense_7 (Dense)             (None, 35)                2275      \n",
      "                                                                 \n",
      "=================================================================\n",
      "Total params: 16,817,027\n",
      "Trainable params: 16,817,027\n",
      "Non-trainable params: 0\n",
      "_________________________________________________________________\n"
     ]
    }
   ],
   "source": [
    "model.summary()"
   ]
  },
  {
   "cell_type": "code",
   "execution_count": 8,
   "metadata": {
    "scrolled": true
   },
   "outputs": [
    {
     "name": "stdout",
     "output_type": "stream",
     "text": [
      "Epoch 1/5\n",
      "985/985 [==============================] - 614s 622ms/step - loss: 0.3948 - accuracy: 0.8853 - auc: 0.9948 - precision: 0.9491 - recall: 0.8560 - false_positives: 1446.0000 - true_negatives: 1069554.0000 - true_positives: 26964.0000 - false_negatives: 4536.0000 - val_loss: 0.0531 - val_accuracy: 0.9910 - val_auc: 0.9975 - val_precision: 0.9928 - val_recall: 0.9907 - val_false_positives: 75.0000 - val_true_negatives: 356925.0000 - val_true_positives: 10402.0000 - val_false_negatives: 98.0000\n",
      "Epoch 2/5\n",
      "985/985 [==============================] - 593s 602ms/step - loss: 0.0733 - accuracy: 0.9772 - auc: 0.9991 - precision: 0.9815 - recall: 0.9731 - false_positives: 579.0000 - true_negatives: 1070421.0000 - true_positives: 30654.0000 - false_negatives: 846.0000 - val_loss: 0.0435 - val_accuracy: 0.9890 - val_auc: 0.9987 - val_precision: 0.9910 - val_recall: 0.9873 - val_false_positives: 94.0000 - val_true_negatives: 356906.0000 - val_true_positives: 10367.0000 - val_false_negatives: 133.0000\n",
      "Epoch 3/5\n",
      "985/985 [==============================] - 598s 608ms/step - loss: 0.0470 - accuracy: 0.9858 - auc: 0.9993 - precision: 0.9885 - recall: 0.9836 - false_positives: 361.0000 - true_negatives: 1070639.0000 - true_positives: 30982.0000 - false_negatives: 518.0000 - val_loss: 0.0646 - val_accuracy: 0.9885 - val_auc: 0.9967 - val_precision: 0.9887 - val_recall: 0.9884 - val_false_positives: 119.0000 - val_true_negatives: 356881.0000 - val_true_positives: 10378.0000 - val_false_negatives: 122.0000\n",
      "Epoch 4/5\n",
      "985/985 [==============================] - 571s 580ms/step - loss: 0.0395 - accuracy: 0.9875 - auc: 0.9995 - precision: 0.9899 - recall: 0.9856 - false_positives: 317.0000 - true_negatives: 1070683.0000 - true_positives: 31046.0000 - false_negatives: 454.0000 - val_loss: 0.0405 - val_accuracy: 0.9928 - val_auc: 0.9985 - val_precision: 0.9937 - val_recall: 0.9923 - val_false_positives: 66.0000 - val_true_negatives: 356934.0000 - val_true_positives: 10419.0000 - val_false_negatives: 81.0000\n",
      "Epoch 5/5\n",
      "985/985 [==============================] - 568s 577ms/step - loss: 0.0339 - accuracy: 0.9896 - auc: 0.9996 - precision: 0.9914 - recall: 0.9881 - false_positives: 270.0000 - true_negatives: 1070730.0000 - true_positives: 31124.0000 - false_negatives: 376.0000 - val_loss: 0.0316 - val_accuracy: 0.9923 - val_auc: 0.9989 - val_precision: 0.9928 - val_recall: 0.9916 - val_false_positives: 76.0000 - val_true_negatives: 356924.0000 - val_true_positives: 10412.0000 - val_false_negatives: 88.0000\n"
     ]
    },
    {
     "data": {
      "text/plain": [
       "<keras.callbacks.History at 0x26eb0705370>"
      ]
     },
     "execution_count": 8,
     "metadata": {},
     "output_type": "execute_result"
    }
   ],
   "source": [
    "#fitting the model \n",
    "\n",
    "model.fit(training, steps_per_epoch=len(training),epochs=5,validation_data=testing,validation_steps=len(testing))"
   ]
  },
  {
   "cell_type": "code",
   "execution_count": 12,
   "metadata": {},
   "outputs": [
    {
     "name": "stdout",
     "output_type": "stream",
     "text": [
      "329/329 [==============================] - 43s 131ms/step - loss: 0.0316 - accuracy: 0.9923 - auc: 0.9989 - precision: 0.9928 - recall: 0.9916 - false_positives: 76.0000 - true_negatives: 356924.0000 - true_positives: 10412.0000 - false_negatives: 88.0000\n",
      "Accuracy on test set: 99.23%\n",
      "ROC(Receiver Operation Characteristic) AUC(Area Under Curve): 0.9989295601844788\n",
      "Precision: 99.28%\n",
      "Recall: 99.16%\n",
      "F1-score: 0.9921860133602974\n",
      "Specificity: 0.9997871148459384\n"
     ]
    }
   ],
   "source": [
    "model_metrics = model.evaluate(testing,verbose=1)\n",
    "\n",
    "f1_score = 2*( (model_metrics[3]*model_metrics[4]) / (model_metrics[3]+model_metrics[4]) )\n",
    "\n",
    "print(f\"Accuracy on test set: {round(model_metrics[1]*100,2)}%\")\n",
    "print(f\"ROC(Receiver Operation Characteristic) AUC(Area Under Curve): {model_metrics[2]}\")\n",
    "print(f\"Precision: {round(model_metrics[3]*100,2)}%\")\n",
    "print(f\"Recall: {round(model_metrics[4]*100,2)}%\")\n",
    "print(f\"F1-score: {f1_score}\")\n",
    "print(f\"Specificity: {(model_metrics[6])/(model_metrics[6]+model_metrics[5])}\")"
   ]
  },
  {
   "cell_type": "code",
   "execution_count": 13,
   "metadata": {},
   "outputs": [
    {
     "name": "stdout",
     "output_type": "stream",
     "text": [
      "Accuracy on test set: 99.23%\n"
     ]
    }
   ],
   "source": [
    "print(f\"Accuracy on test set: {round(model_metrics[1]*100,2)}%\")"
   ]
  },
  {
   "cell_type": "code",
   "execution_count": 11,
   "metadata": {},
   "outputs": [],
   "source": [
    "model.save('final_model_review.h5')"
   ]
  },
  {
   "cell_type": "markdown",
   "metadata": {},
   "source": [
    "### Inference "
   ]
  },
  {
   "cell_type": "markdown",
   "metadata": {},
   "source": [
    "##### Our model predicts most of the gestures fairly well though it consistently predicts the wrong output for certain letters. Though we've attained a a high accuracy due, to lack of diversity in the training data the model fails to predict the correct sign in some cases. This can be rectified by creating our own dataset with images in different lighting, backgrounds and orientation. "
   ]
  },
  {
   "cell_type": "code",
   "execution_count": null,
   "metadata": {},
   "outputs": [],
   "source": []
  }
 ],
 "metadata": {
  "kernelspec": {
   "display_name": "Python 3",
   "language": "python",
   "name": "python3"
  },
  "language_info": {
   "codemirror_mode": {
    "name": "ipython",
    "version": 3
   },
   "file_extension": ".py",
   "mimetype": "text/x-python",
   "name": "python",
   "nbconvert_exporter": "python",
   "pygments_lexer": "ipython3",
   "version": "3.8.8"
  }
 },
 "nbformat": 4,
 "nbformat_minor": 4
}
